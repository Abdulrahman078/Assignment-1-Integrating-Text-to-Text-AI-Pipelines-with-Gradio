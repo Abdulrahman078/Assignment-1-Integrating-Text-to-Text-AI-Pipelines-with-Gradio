{
  "nbformat": 4,
  "nbformat_minor": 0,
  "metadata": {
    "colab": {
      "provenance": []
    },
    "kernelspec": {
      "name": "python3",
      "display_name": "Python 3"
    },
    "language_info": {
      "name": "python"
    }
  },
  "cells": [
    {
      "cell_type": "markdown",
      "source": [
        "# Gradio Example Notebook"
      ],
      "metadata": {
        "id": "-Ix16ey2erLl"
      }
    },
    {
      "cell_type": "markdown",
      "source": [
        " A separate notebook that demonstrates various Gradio components. If needed,use hardcoded data to show the functionality of the Gradio components.\n"
      ],
      "metadata": {
        "id": "3dxNBkEhexES"
      }
    },
    {
      "cell_type": "markdown",
      "source": [
        "## Code"
      ],
      "metadata": {
        "id": "YlfGrVVBe16M"
      }
    },
    {
      "cell_type": "markdown",
      "source": [
        "### Libraries\n",
        "\n",
        "Start by installing and importing necessary libraries"
      ],
      "metadata": {
        "id": "7lICoKpGe4kP"
      }
    },
    {
      "cell_type": "code",
      "execution_count": 16,
      "metadata": {
        "id": "JBJQeBn0YrwE"
      },
      "outputs": [],
      "source": [
        "!pip install gradio"
      ]
    },
    {
      "cell_type": "code",
      "source": [
        "import gradio as gr  # Gradio library to create an interactive interface\n",
        "import pandas as pd  # Pandas library for data manipulation and analysis"
      ],
      "metadata": {
        "id": "OTYay5Uge-Jw"
      },
      "execution_count": 17,
      "outputs": []
    },
    {
      "cell_type": "markdown",
      "source": [
        "### Define Function\n",
        "\n",
        "Here we define the gradio's function.\n"
      ],
      "metadata": {
        "id": "Dx7kdVxhfQ0l"
      }
    },
    {
      "cell_type": "code",
      "source": [
        "def sentiment_analysis(language,filename):\n",
        "    # Hardcoded outputs to demonstrate Gradio's components\n",
        "    if language == \"Arabic\":\n",
        "        results = [\n",
        "            {\"Sentence\": \"أحببت الفيلم كثيرًا، كان ممتعًا!\", \"Label\": \"positive\", \"Score\": \"90.35%\"},\n",
        "            {\"Sentence\": \"كان الطعام لذيذًا للغاية.\", \"Label\": \"positive\", \"Score\": \"92.12%\"},\n",
        "            {\"Sentence\": \"لقد كانت رحلة رائعة حقًا.\", \"Label\": \"positive\", \"Score\": \"99.40%\"},\n",
        "            {\"Sentence\": \"الخدمة في الفندق كانت استثنائية.\", \"Label\": \"neutral\", \"Score\": \"65.75%\"},\n",
        "            {\"Sentence\": \"الحديقة جميلة جدًا ومريحة.\", \"Label\": \"positive\", \"Score\": \"99.14%\"}\n",
        "        ]\n",
        "    elif language == \"English\":\n",
        "        results = [\n",
        "            {\"Sentence\": \"I absolutely loved the vacation; it was a dream come true!\", \"Label\": \"positive\", \"Score\": \"99.99%\"},\n",
        "            {\"Sentence\": \"The customer service was excellent and very helpful.\", \"Label\": \"positive\", \"Score\": \"99.99%\"},\n",
        "            {\"Sentence\": \"This is the best decision I have ever made.\", \"Label\": \"positive\", \"Score\": \"99.98%\"},\n",
        "            {\"Sentence\": \"The new restaurant in town is fantastic!\", \"Label\": \"positive\", \"Score\": \"99.99%\"},\n",
        "            {\"Sentence\": \"I'm so proud of what we have accomplished today.\", \"Label\": \"positive\", \"Score\": \"99.99%\"}\n",
        "        ]\n",
        "\n",
        "    # Convert the results into a DataFrame\n",
        "    df = pd.DataFrame(results)\n",
        "\n",
        "    return df"
      ],
      "metadata": {
        "id": "dGn2a4A4fQGl"
      },
      "execution_count": 20,
      "outputs": []
    },
    {
      "cell_type": "markdown",
      "source": [
        "### Build Gradio Interface\n",
        "\n",
        "\n",
        "Here, The Gradio interface is set up using the following components:\n",
        "\n",
        "**A file uploader** allows user to upload a text file which contains the sentences to be analyzed\n",
        "\n",
        "**DataFrame Output** Displays program's output in a structured table format\n",
        "\n",
        "**Title and Description**: Provides clear title and description for the interface"
      ],
      "metadata": {
        "id": "IHHnKudGfFtI"
      }
    },
    {
      "cell_type": "code",
      "source": [
        "#Create the gradio interface\n",
        "demo = gr.Interface(\n",
        "    fn=sentiment_analysis, # Function used by gradio\n",
        "    inputs=[gr.Dropdown(choices=[\"Arabic\",\"English\"],\n",
        "            label=\"Select a Language\",\n",
        "            value=\"Arabic\"),\n",
        "            gr.File(label=\"No need to upload a file(just for demonstration)\")], # User inputs (file,language)\n",
        "    outputs=gr.DataFrame(label=\"Results\"),  # Program's output (DataFrame)\n",
        "    title='Sentiment-Analysis',\n",
        "    description=\"Gradio interface that allows users to Choose what language the sentences will be and upload a text file containing the sentences to be analyzed, the sentences will be classified and results will be in a formatted table along with a plot sentiment distribution\"\n",
        ")\n",
        "demo.launch(debug=True) # \"Debug=True\" Displays inerface errors"
      ],
      "metadata": {
        "colab": {
          "base_uri": "https://localhost:8080/",
          "height": 626
        },
        "id": "xE3M_HFgfN4L",
        "outputId": "a815d510-cf43-4154-e5c8-4d731f1c11ab"
      },
      "execution_count": null,
      "outputs": [
        {
          "output_type": "stream",
          "name": "stdout",
          "text": [
            "Setting queue=True in a Colab notebook requires sharing enabled. Setting `share=True` (you can turn this off by setting `share=False` in `launch()` explicitly).\n",
            "\n",
            "Colab notebook detected. This cell will run indefinitely so that you can see errors and logs. To turn off, set debug=False in launch().\n",
            "Running on public URL: https://86f64ecdea725d6b3e.gradio.live\n",
            "\n",
            "This share link expires in 72 hours. For free permanent hosting and GPU upgrades, run `gradio deploy` from Terminal to deploy to Spaces (https://huggingface.co/spaces)\n"
          ]
        },
        {
          "output_type": "display_data",
          "data": {
            "text/plain": [
              "<IPython.core.display.HTML object>"
            ],
            "text/html": [
              "<div><iframe src=\"https://86f64ecdea725d6b3e.gradio.live\" width=\"100%\" height=\"500\" allow=\"autoplay; camera; microphone; clipboard-read; clipboard-write;\" frameborder=\"0\" allowfullscreen></iframe></div>"
            ]
          },
          "metadata": {}
        }
      ]
    }
  ]
}